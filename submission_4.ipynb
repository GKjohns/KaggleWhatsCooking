{
 "cells": [
  {
   "cell_type": "markdown",
   "metadata": {
    "collapsed": true
   },
   "source": [
    "# Submission 4\n",
    "using the entire training set to make the model"
   ]
  },
  {
   "cell_type": "code",
   "execution_count": 19,
   "metadata": {
    "collapsed": true
   },
   "outputs": [],
   "source": [
    "%matplotlib inline\n",
    "\n",
    "import numpy as np\n",
    "import pandas as pd\n",
    "import seaborn as sns\n",
    "import matplotlib.pyplot as plt\n",
    "\n",
    "from sklearn.cross_validation import train_test_split\n",
    "from sklearn.feature_extraction.text import CountVectorizer, TfidfTransformer\n",
    "from sklearn.feature_selection import SelectKBest\n",
    "from sklearn.linear_model import SGDClassifier\n",
    "from sklearn.svm import SVC\n",
    "from sklearn.pipeline import Pipeline\n",
    "\n",
    "import json\n",
    "import random"
   ]
  },
  {
   "cell_type": "code",
   "execution_count": 20,
   "metadata": {
    "collapsed": true
   },
   "outputs": [],
   "source": [
    "data = json.loads(open('data/train.json').read())\n",
    "# data[:5]"
   ]
  },
  {
   "cell_type": "code",
   "execution_count": 23,
   "metadata": {
    "collapsed": false
   },
   "outputs": [
    {
     "data": {
      "text/plain": [
       "'jasmine_rice garlic scallions sugar shiitake Gochujang_base beansprouts top_round_steak sesame_seeds rice_vinegar carrots soy_sauce sesame_oil Taiwanese_bok_choy'"
      ]
     },
     "execution_count": 23,
     "metadata": {},
     "output_type": "execute_result"
    }
   ],
   "source": [
    "#   replacing spaces with underlines, make into strings for count vectorizer\n",
    "X_full = ([[ingredient.replace(' ', '_').encode('ascii', 'ignore') for ingredient in food['ingredients']]\\\n",
    "      for food in data])\n",
    "#  ^Look at the badass list comprehension right there\n",
    "X_full = [' '.join(ingredients) for ingredients in X_full]\n",
    "\n",
    "y_full = map(lambda x: x['cuisine'], data)\n",
    "\n",
    "X_full, y_full = np.asarray(X_full), np.asarray(y_full)\n",
    "\n",
    "assert len(X_full) == len(y_full)\n",
    "\n",
    "X_full[66]"
   ]
  },
  {
   "cell_type": "code",
   "execution_count": 25,
   "metadata": {
    "collapsed": false
   },
   "outputs": [
    {
     "data": {
      "text/plain": [
       "9944"
      ]
     },
     "execution_count": 25,
     "metadata": {},
     "output_type": "execute_result"
    }
   ],
   "source": [
    "test_data = json.loads(open('data/test.json').read())\n",
    "\n",
    "X_out_test = ([[ingredient.replace(' ', '_').encode('ascii', 'ignore')\\\n",
    "                for ingredient in food['ingredients']]\\\n",
    "                for food in test_data])\n",
    "X_out_test = [' '.join(ingredients) for ingredients in X_out_test]\n",
    "X_out_test = np.asarray(X_out_test)\n",
    "\n",
    "len(X_out_test)"
   ]
  },
  {
   "cell_type": "code",
   "execution_count": 15,
   "metadata": {
    "collapsed": false
   },
   "outputs": [
    {
     "name": "stdout",
     "output_type": "stream",
     "text": [
      "british: baking_powder eggs all-purpose_flour raisins milk white_sugar\n",
      "\n",
      "\n",
      "southern_us: sugar egg_yolks corn_starch cream_of_tartar bananas vanilla_wafers milk vanilla_extract toasted_pecans egg_whites light_rum\n",
      "\n",
      "\n",
      "italian: sausage_links fennel_bulb fronds olive_oil cuban_peppers onions\n",
      "\n",
      "\n",
      "cajun_creole: meat_cuts file_powder smoked_sausage okra shrimp andouille_sausage water paprika hot_sauce garlic_cloves browning lump_crab_meat vegetable_oil all-purpose_flour freshly_ground_pepper flat_leaf_parsley boneless_chicken_skinless_thigh dried_thyme white_rice yellow_onion ham\n",
      "\n",
      "\n",
      "italian: ground_black_pepper salt sausage_casings leeks parmigiano_reggiano_cheese cornmeal water extra-virgin_olive_oil\n",
      "\n",
      "\n"
     ]
    }
   ],
   "source": [
    "trans_clf = Pipeline([('count_vect', CountVectorizer()),\n",
    "                      ('tfidf', TfidfTransformer()),\n",
    "                      ('k_best', SelectKBest(k=5000)),\n",
    "                      ('clf', SGDClassifier())])\n",
    "\n",
    "trans_clf.fit(X_full, y_full)\n",
    "preds = trans_clf.predict(X_out_test)\n",
    "\n",
    "for a, b in zip(preds[:5], X_out_test[:5]):\n",
    "    print '{}: {}\\n\\n'.format(a, b)"
   ]
  },
  {
   "cell_type": "code",
   "execution_count": 7,
   "metadata": {
    "collapsed": false
   },
   "outputs": [
    {
     "data": {
      "text/html": [
       "<div>\n",
       "<table border=\"1\" class=\"dataframe\">\n",
       "  <thead>\n",
       "    <tr style=\"text-align: right;\">\n",
       "      <th></th>\n",
       "      <th>cuisine</th>\n",
       "    </tr>\n",
       "    <tr>\n",
       "      <th>id</th>\n",
       "      <th></th>\n",
       "    </tr>\n",
       "  </thead>\n",
       "  <tbody>\n",
       "    <tr>\n",
       "      <th>18009</th>\n",
       "      <td>irish</td>\n",
       "    </tr>\n",
       "    <tr>\n",
       "      <th>28583</th>\n",
       "      <td>southern_us</td>\n",
       "    </tr>\n",
       "    <tr>\n",
       "      <th>41580</th>\n",
       "      <td>italian</td>\n",
       "    </tr>\n",
       "    <tr>\n",
       "      <th>29752</th>\n",
       "      <td>cajun_creole</td>\n",
       "    </tr>\n",
       "    <tr>\n",
       "      <th>35687</th>\n",
       "      <td>italian</td>\n",
       "    </tr>\n",
       "  </tbody>\n",
       "</table>\n",
       "</div>"
      ],
      "text/plain": [
       "            cuisine\n",
       "id                 \n",
       "18009         irish\n",
       "28583   southern_us\n",
       "41580       italian\n",
       "29752  cajun_creole\n",
       "35687       italian"
      ]
     },
     "execution_count": 7,
     "metadata": {},
     "output_type": "execute_result"
    }
   ],
   "source": [
    "df = pd.DataFrame(columns=['id','cuisine'])\n",
    "df['id'] = map(lambda x: x['id'], test_data)\n",
    "\n",
    "preds = trans_clf.predict(X_out_test)\n",
    "df['cuisine'] = preds\n",
    "df.index=df.id\n",
    "df = df.drop('id', axis=1)\n",
    "df.head()"
   ]
  },
  {
   "cell_type": "code",
   "execution_count": 8,
   "metadata": {
    "collapsed": false
   },
   "outputs": [],
   "source": [
    "df.to_csv('submissions/submission_4.csv')"
   ]
  },
  {
   "cell_type": "code",
   "execution_count": null,
   "metadata": {
    "collapsed": true
   },
   "outputs": [],
   "source": []
  }
 ],
 "metadata": {
  "kernelspec": {
   "display_name": "Python 2",
   "language": "python",
   "name": "python2"
  },
  "language_info": {
   "codemirror_mode": {
    "name": "ipython",
    "version": 2
   },
   "file_extension": ".py",
   "mimetype": "text/x-python",
   "name": "python",
   "nbconvert_exporter": "python",
   "pygments_lexer": "ipython2",
   "version": "2.7.10"
  }
 },
 "nbformat": 4,
 "nbformat_minor": 0
}
