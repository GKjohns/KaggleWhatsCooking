{
 "cells": [
  {
   "cell_type": "markdown",
   "metadata": {},
   "source": [
    "# Submission 6"
   ]
  },
  {
   "cell_type": "code",
   "execution_count": 2,
   "metadata": {
    "collapsed": false
   },
   "outputs": [],
   "source": [
    "%matplotlib inline\n",
    "\n",
    "import numpy as np\n",
    "import pandas as pd\n",
    "import seaborn as sns\n",
    "import matplotlib.pyplot as plt\n",
    "\n",
    "from sklearn.cross_validation import train_test_split\n",
    "from sklearn.feature_extraction.text import CountVectorizer, TfidfTransformer\n",
    "from sklearn.feature_selection import SelectKBest\n",
    "from sklearn.linear_model import SGDClassifier, LassoCV\n",
    "from sklearn.naive_bayes import GaussianNB\n",
    "from sklearn.neighbors import KNeighborsClassifier\n",
    "from sklearn.svm import SVC\n",
    "from sklearn.pipeline import Pipeline\n",
    "from sklearn.metrics import accuracy_score\n",
    "import json\n",
    "import random"
   ]
  },
  {
   "cell_type": "markdown",
   "metadata": {},
   "source": [
    "### Loads training data"
   ]
  },
  {
   "cell_type": "code",
   "execution_count": 3,
   "metadata": {
    "collapsed": true
   },
   "outputs": [],
   "source": [
    "data = json.loads(open('data/train.json').read())\n",
    "\n",
    "#   replacing spaces with underlines, make into strings for count vectorizer\n",
    "X_full = ([[ingredient.replace(' ', '_') for ingredient in food['ingredients']]\\\n",
    "      for food in data])\n",
    "\n",
    "#  ^Look at the badass list comprehension right there\n",
    "X_full = [' '.join(ingredients) for ingredients in X_full]\n",
    "\n",
    "y_full = map(lambda x: x['cuisine'], data)\n",
    "\n",
    "X_full, y_full = np.asarray(X_full), np.asarray(y_full)\n",
    "\n",
    "assert len(X_full) == len(y_full)"
   ]
  },
  {
   "cell_type": "markdown",
   "metadata": {},
   "source": [
    "### Loads test data"
   ]
  },
  {
   "cell_type": "code",
   "execution_count": 4,
   "metadata": {
    "collapsed": false
   },
   "outputs": [],
   "source": [
    "test_data = json.loads(open('data/test.json').read())\n",
    "\n",
    "X_out_test = ([[ingredient.replace(' ', '_').encode('ascii', 'ignore')\\\n",
    "                for ingredient in food['ingredients']]\\\n",
    "                for food in test_data])\n",
    "X_out_test = [' '.join(ingredients) for ingredients in X_out_test]\n",
    "X_out_test = np.asarray(X_out_test)"
   ]
  },
  {
   "cell_type": "code",
   "execution_count": 5,
   "metadata": {
    "collapsed": false
   },
   "outputs": [
    {
     "name": "stdout",
     "output_type": "stream",
     "text": [
      "romaine_lettuce black_olives grape_tomatoes garlic pepper purple_onion seasoning garbanzo_beans feta_cheese_crumbles\n",
      "\n",
      "plain_flour ground_pepper salt tomatoes ground_black_pepper thyme eggs green_tomatoes yellow_corn_meal milk vegetable_oil\n",
      "\n",
      "eggs pepper salt mayonaise cooking_oil green_chilies grilled_chicken_breasts garlic_powder yellow_onion soy_sauce butter chicken_livers\n",
      "\n",
      "water vegetable_oil wheat salt\n",
      "\n",
      "black_pepper shallots cornflour cayenne_pepper onions garlic_paste milk butter salt lemon_juice water chili_powder passata oil ground_cumin boneless_chicken_skinless_thigh garam_masala double_cream natural_yogurt bay_leaf\n"
     ]
    }
   ],
   "source": [
    "print '\\n\\n'.join(X_full[:5])"
   ]
  },
  {
   "cell_type": "code",
   "execution_count": 23,
   "metadata": {
    "collapsed": false
   },
   "outputs": [],
   "source": [
    "full_clf = Pipeline([('vect', CountVectorizer(max_df=.7)),\n",
    "                     ('tfidf', TfidfTransformer()),\n",
    "                     ('kbest', SelectKBest(k=4900)),\n",
    "                     ('clf', SGDClassifier(alpha=1e-5,\n",
    "                                           n_iter=70, \n",
    "                                           penalty='elasticnet'))])"
   ]
  },
  {
   "cell_type": "code",
   "execution_count": 24,
   "metadata": {
    "collapsed": false
   },
   "outputs": [
    {
     "data": {
      "text/plain": [
       "0.78227529855436828"
      ]
     },
     "execution_count": 24,
     "metadata": {},
     "output_type": "execute_result"
    }
   ],
   "source": [
    "X_train, X_test, y_train, y_test = train_test_split(X_full, y_full,\n",
    "                                                    test_size=.2, random_state=7)\n",
    "full_clf.fit(X_train, y_train)\n",
    "preds = full_clf.predict(X_test)\n",
    "np.mean(preds == y_test)"
   ]
  },
  {
   "cell_type": "code",
   "execution_count": 43,
   "metadata": {
    "collapsed": false
   },
   "outputs": [],
   "source": [
    "scores = list()\n",
    "\n",
    "for a in [1e1, 1e-1, 1e-2, 1e-3, 1e-4, 1e-5, 1e-6, 1e-7]:\n",
    "    temp_clf = Pipeline([('vect', CountVectorizer()),\n",
    "                         ('tfidf', TfidfTransformer()),\n",
    "                         ('kbest', SelectKBest(k=4900)),\n",
    "                         ('clf', SGDClassifier(alpha=a))])\n",
    "    \n",
    "    temp_clf.fit(X_train, y_train)\n",
    "    preds = temp_clf.predict(X_test)\n",
    "    scores.append((a, np.mean(preds == y_test)))"
   ]
  },
  {
   "cell_type": "code",
   "execution_count": 41,
   "metadata": {
    "collapsed": false
   },
   "outputs": [
    {
     "name": "stdout",
     "output_type": "stream",
     "text": [
      "10.0, 0.256442489001\n",
      "0.1, 0.286109365179\n",
      "0.01, 0.659836580767\n",
      "0.001, 0.694657448146\n",
      "0.0001, 0.769201759899\n",
      "1e-05, 0.7795097423\n",
      "1e-06, 0.752231301069\n",
      "1e-07, 0.72155876807\n"
     ]
    }
   ],
   "source": [
    "print '\\n'.join(['{}, {}'.format(x[0], x[1]) for x in scores])"
   ]
  },
  {
   "cell_type": "code",
   "execution_count": 42,
   "metadata": {
    "collapsed": false
   },
   "outputs": [
    {
     "name": "stdout",
     "output_type": "stream",
     "text": [
      "k: 10.0, accuracy: 0.256442489001\n",
      "k: 0.1, accuracy: 0.286109365179\n",
      "k: 0.01, accuracy: 0.659836580767\n",
      "k: 0.001, accuracy: 0.694657448146\n",
      "k: 0.0001, accuracy: 0.769201759899\n",
      "k: 1e-05, accuracy: 0.7795097423\n",
      "k: 1e-06, accuracy: 0.752231301069\n",
      "k: 1e-07, accuracy: 0.72155876807\n"
     ]
    }
   ],
   "source": [
    "for score in scores:\n",
    "    print 'k: {}, accuracy: {}'.format(score[0], score[1])"
   ]
  },
  {
   "cell_type": "markdown",
   "metadata": {},
   "source": [
    "Makes a csv from predictions, gets stuff ready to submit"
   ]
  },
  {
   "cell_type": "code",
   "execution_count": 25,
   "metadata": {
    "collapsed": false
   },
   "outputs": [],
   "source": [
    "df = pd.DataFrame(columns=['id','cuisine'])\n",
    "df['id'] = map(lambda x: x['id'], test_data)\n",
    "\n",
    "preds = full_clf.predict(X_out_test)\n",
    "df['cuisine'] = preds\n",
    "df.index=df.id\n",
    "df = df.drop('id', axis=1)\n",
    "df.head()\n",
    "\n",
    "df.to_csv('submissions/submission_9.csv')"
   ]
  },
  {
   "cell_type": "code",
   "execution_count": 70,
   "metadata": {
    "collapsed": false
   },
   "outputs": [
    {
     "data": {
      "text/plain": [
       "39774"
      ]
     },
     "execution_count": 70,
     "metadata": {},
     "output_type": "execute_result"
    }
   ],
   "source": [
    "len(X_full)"
   ]
  },
  {
   "cell_type": "code",
   "execution_count": null,
   "metadata": {
    "collapsed": true
   },
   "outputs": [],
   "source": []
  }
 ],
 "metadata": {
  "kernelspec": {
   "display_name": "Python 2",
   "language": "python",
   "name": "python2"
  },
  "language_info": {
   "codemirror_mode": {
    "name": "ipython",
    "version": 2
   },
   "file_extension": ".py",
   "mimetype": "text/x-python",
   "name": "python",
   "nbconvert_exporter": "python",
   "pygments_lexer": "ipython2",
   "version": "2.7.10"
  }
 },
 "nbformat": 4,
 "nbformat_minor": 0
}
